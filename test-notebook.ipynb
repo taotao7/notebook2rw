{
  "cells": [
    {
      "cell_type": "code",
      "execution_count": null,
      "metadata": {
        "vscode": {
          "languageId": "plaintext"
        }
      },
      "outputs": [],
      "source": [
        "# 测试Notebook\n",
        "\n",
        "这是一个用于测试MCP服务器的简单notebook。\n"
      ]
    },
    {
      "cell_type": "code",
      "execution_count": null,
      "metadata": {},
      "outputs": [],
      "source": [
        "# 简单的Python代码\n",
        "print('Hello from MCP notebook server!')\n",
        "x = 10\n",
        "y = 20\n",
        "result = x + y\n",
        "print(f'结果: {result}')\n"
      ]
    },
    {
      "cell_type": "code",
      "execution_count": null,
      "metadata": {},
      "outputs": [],
      "source": [
        "## 数学计算\n",
        "\n",
        "下面是一些基础的数学运算：\n"
      ]
    },
    {
      "cell_type": "code",
      "execution_count": null,
      "metadata": {},
      "outputs": [],
      "source": [
        "import math\n",
        "\n",
        "# 计算圆的面积\n",
        "radius = 5\n",
        "area = math.pi * radius ** 2\n",
        "print(f'半径为{radius}的圆的面积: {area:.2f}')\n"
      ]
    },
    {
      "source": [
        "def fibonacci(n):\n",
        "    \"\"\"This function generates the Fibonacci sequence up to n.\"\"\"\n",
        "    a, b = 0, 1\n",
        "    while a < n:\n",
        "        print(a, end=' ')\n",
        "        a, b = b, a+b\n",
        "    print()\n",
        "\n",
        "fibonacci(100)"
      ],
      "metadata": {},
      "cell_type": "code"
    }
  ],
  "metadata": {
    "language_info": {
      "name": "python"
    }
  },
  "nbformat": 4,
  "nbformat_minor": 2
}